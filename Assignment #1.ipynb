{
 "cells": [
  {
   "cell_type": "code",
   "execution_count": null,
   "id": "06cb042d",
   "metadata": {},
   "outputs": [],
   "source": [
    "from tabulate import tabulate\n",
    "\n",
    "staff = [\n",
    "    [\"Name\", \"Year\", \"Semesters on Staff\"],\n",
    "    [\"Rita\", \"4\", \"7\"],\n",
    "    [\"Natalie\", \"4\", \"7\"],\n",
    "    [\"Prasann\", \"3\", \"3\"],\n",
    "    [\"Ashwin\", \"2\", \"3\"],\n",
    "    [\"Haru\", \"3\", \"3\"],\n",
    "    [\"Wendy\", \"3\", \"3\"],\n",
    "    [\"Jackie\", \"4\", \"7\"],\n",
    "    [\"Vivrd\", \"2\", \"3\"],\n",
    "    [\"Olivia\", \"4\", \"4\"],\n",
    "    [\"Vishnu\", \"4\", \"3\"],\n",
    "    [\"Peter\", \"2\", \"2\"],\n",
    "    [\"Kyle\", \"3\", \"3\"],\n",
    "    [\"Jessie\", \"4\", \"5\"],\n",
    "    [\"Oscar\", \"3\", \"3\"],\n",
    "    [\"Yanay\", \"4\", \"9\"],\n",
    "    [\"Eddie\", \"3\", \"4\"],\n",
    "    [\"Katherine\", \"4\", \"10\"],\n",
    "    [\"Mei\", \"3\", \"2\"],\n",
    "    [\"Rohan\", \"3\", \"2\"],\n",
    "    [\"Noah\", \"2\", \"3\"],\n",
    "    [\"Sarah\", \"3\", \"2\"],\n",
    "    [\"Grace\", \"4\", \"3\"],\n",
    "    [\"Ellen\", \"4\", \"5\"]\n",
    "]\n",
    "print (tabulate(staff, headers='firstrow'))"
   ]
  },
  {
   "cell_type": "markdown",
   "id": "cadfcf63",
   "metadata": {},
   "source": [
    "# A"
   ]
  },
  {
   "cell_type": "code",
   "execution_count": null,
   "id": "6ff00728",
   "metadata": {},
   "outputs": [],
   "source": [
    "staff_year = [\n",
    "    [\"Year\", \"Semesters on Staff\"],\n",
    "    [\"2\", \"2.5\"],\n",
    "    [\"3\", \"2.7778\"],\n",
    "    [\"4\", \"6\"],\n",
    "\n",
    "]\n",
    "print (tabulate(staff_year, headers='firstrow'))"
   ]
  },
  {
   "cell_type": "markdown",
   "id": "3fad3679",
   "metadata": {},
   "source": [
    "# B"
   ]
  },
  {
   "cell_type": "code",
   "execution_count": null,
   "id": "9a00d47b",
   "metadata": {},
   "outputs": [],
   "source": [
    "staff_name = [\n",
    "    [\"Name\", \"Year\"],\n",
    "    [\"Rita\", \"Senior\"],\n",
    "    [\"Natalie\", \"Senior\"],\n",
    "    [\"Prasann\", \"Junior\"],\n",
    "    [\"Ashwin\", \"Sophomore\"],\n",
    "    [\"Haru\", \"Junior\"],\n",
    "    [\"Wendy\", \"Junior\"],\n",
    "    [\"Jackie\", \"Senior\"],\n",
    "    [\"Vivrd\", \"Sophomore\"],\n",
    "    [\"Olivia\", \"Senior\"],\n",
    "    [\"Vishnu\", \"Senior\"],\n",
    "    [\"Peter\", \"Sophomore\"],\n",
    "    [\"Kyle\", \"Junior\"],\n",
    "    [\"Jessie\", \"Senior\"],\n",
    "    [\"Oscar\", \"Junior\"],\n",
    "    [\"Yanay\", \"Senior\"],\n",
    "    [\"Eddie\", \"Junior\"],\n",
    "    [\"Katherine\", \"Senior\"],\n",
    "    [\"Mei\", \"Junior\"],\n",
    "    [\"Rohan\", \"Junior\"],\n",
    "    [\"Noah\", \"Sophomore\"],\n",
    "    [\"Sarah\", \"Junior\"],\n",
    "    [\"Grace\", \"Senior\"],\n",
    "    [\"Ellen\", \"Senior\"]\n",
    "]\n",
    "\n",
    "print (tabulate(staff_name, headers='firstrow'))"
   ]
  },
  {
   "cell_type": "markdown",
   "id": "b92691ec",
   "metadata": {},
   "source": [
    "# C"
   ]
  },
  {
   "cell_type": "code",
   "execution_count": null,
   "id": "9de0ab5b",
   "metadata": {},
   "outputs": [],
   "source": [
    "import matplotlib.pyplot as plt\n",
    "\n",
    "semesters = (2, 3, 4, 5, 6, 7, 8, 9, 10)\n",
    "years = (2,2,3,3,3,4,4,4,4,4,4)\n",
    "\n",
    "fig, ax = plt.subplots()\n",
    "axs.plot(years, semesters)\n",
    "\n",
    "plt.show()"
   ]
  },
  {
   "cell_type": "markdown",
   "id": "ad6ade10",
   "metadata": {},
   "source": [
    "# D"
   ]
  },
  {
   "cell_type": "code",
   "execution_count": null,
   "id": "8b76f917",
   "metadata": {},
   "outputs": [],
   "source": [
    "staff_semesters = [\n",
    "    ['Semesters on Staff', '2', '3', '4'],\n",
    "    [2,2,3,0],\n",
    "    [3,2,4,2],\n",
    "    [4,0,1,1],\n",
    "    [5,0,0,2],\n",
    "    [7,0,0,3],\n",
    "    [9,0,0,1],\n",
    "    [10,0,0,1]\n",
    "    ]\n",
    "\n",
    "print(tabulate(staff_semesters, headers='firstrow'))"
   ]
  }
 ],
 "metadata": {
  "kernelspec": {
   "display_name": "Python 3",
   "language": "python",
   "name": "python3"
  },
  "language_info": {
   "codemirror_mode": {
    "name": "ipython",
    "version": 3
   },
   "file_extension": ".py",
   "mimetype": "text/x-python",
   "name": "python",
   "nbconvert_exporter": "python",
   "pygments_lexer": "ipython3",
   "version": "3.8.8"
  }
 },
 "nbformat": 4,
 "nbformat_minor": 5
}
